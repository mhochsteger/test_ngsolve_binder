{
 "cells": [
  {
   "cell_type": "markdown",
   "metadata": {},
   "source": [
    "Netgen/NGSolve  \n",
    "===\n",
    "\n",
    "<img src=\"pictures/NGSlogo.png\" width=\"100\">\n",
    "\n",
    "\n",
    "\n",
    "* NGSolve is a high order finite element library\n",
    "* Netgen is a finite element mesh generator\n",
    "* The NGSolve library contains many high order finite element spaces\n",
    "* NGSolve allows to form arbitrary expressions by Python-scripting\n",
    "* High-level algorithms can easily be implemented via Python programming\n",
    "\n",
    "* NGSolve is open source based on the LGPL license.\n",
    "* Software and documentation is freely available at ngsolve.org\n",
    "\n",
    "Examples:\n",
    "  - [Poisson example](poisson.ipynb)\n",
    "  - [Adaptivity](adaptivity.ipynb)\n",
    "  - [Maxwell equations](maxwell.ipynb)\n",
    "  - [Navier Stokes equations](navierstokes.ipynb)\n",
    "  - [Elasticity](elasticity.ipynb)\n"
   ]
  },
  {
   "cell_type": "code",
   "execution_count": null,
   "metadata": {},
   "outputs": [],
   "source": []
  }
 ],
 "metadata": {
  "kernelspec": {
   "display_name": "Python 3",
   "language": "python",
   "name": "python3"
  },
  "language_info": {
   "codemirror_mode": {
    "name": "ipython",
    "version": 3
   },
   "file_extension": ".py",
   "mimetype": "text/x-python",
   "name": "python",
   "nbconvert_exporter": "python",
   "pygments_lexer": "ipython3",
   "version": "3.8.2"
  }
 },
 "nbformat": 4,
 "nbformat_minor": 2
}
